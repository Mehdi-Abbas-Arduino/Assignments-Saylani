{
 "cells": [
  {
   "cell_type": "markdown",
   "metadata": {},
   "source": [
    "# Part -1 Python Basics (Variables)"
   ]
  },
  {
   "cell_type": "markdown",
   "metadata": {},
   "source": [
    "1. Print Your Name with your Father name and Date of birth using suitable escape sequence charactor"
   ]
  },
  {
   "cell_type": "code",
   "execution_count": 2,
   "metadata": {},
   "outputs": [
    {
     "name": "stdout",
     "output_type": "stream",
     "text": [
      "My Father name is Noor Ali\n",
      "and his date of birth is 18-08-1979\n"
     ]
    }
   ],
   "source": [
    "# Write your code here\n",
    "print(\"My Father name is Noor Ali\\nand his date of birth is 18-08-1979\")"
   ]
  },
  {
   "cell_type": "markdown",
   "metadata": {},
   "source": [
    "2. Write your small bio using variables and print it using print function"
   ]
  },
  {
   "cell_type": "code",
   "execution_count": 3,
   "metadata": {},
   "outputs": [
    {
     "name": "stdout",
     "output_type": "stream",
     "text": [
      "Hello my name is Mehdi Abbas , I am 16 years old and I love playing football on the other hand i also like learning python\n"
     ]
    }
   ],
   "source": [
    "# Write your code here\n",
    "bio = \"Hello my name is Mehdi Abbas , I am 16 years old and I love playing football on the other hand i also like learning python\"\n",
    "print(bio)\n"
   ]
  },
  {
   "cell_type": "markdown",
   "metadata": {},
   "source": [
    "3. Write a program in which use all the operators we can use in Python"
   ]
  },
  {
   "cell_type": "code",
   "execution_count": 18,
   "metadata": {},
   "outputs": [
    {
     "name": "stdout",
     "output_type": "stream",
     "text": [
      "Arithmetic Operators:\n",
      "a + b = 13\n",
      "a - b = 7\n",
      "a * b = 30\n",
      "a / b = 3.3333333333333335\n",
      "a // b = 3\n",
      "a % b = 1\n",
      "a ** b = 1000\n",
      "Logical Operators\n",
      "True\n",
      "True\n",
      "False\n",
      "False\n",
      "False\n",
      "True\n"
     ]
    }
   ],
   "source": [
    "# Write your code here\n",
    "a = 10\n",
    "b = 3\n",
    "print(\"Arithmetic Operators:\")\n",
    "print(\"a + b =\", a + b)  # Addition\n",
    "print(\"a - b =\", a - b)  # Subtraction\n",
    "print(\"a * b =\", a * b)  # Multiplication\n",
    "print(\"a / b =\", a / b)  # Division\n",
    "print(\"a // b =\", a // b)  # Floor Division\n",
    "print(\"a % b =\", a % b)  # Modulus\n",
    "print(\"a ** b =\", a ** b) #Exponential\n",
    "\n",
    "print(\"Logical Operators\")\n",
    "print(a>b)\n",
    "print(a>=b)\n",
    "print(a<b)\n",
    "print(a<=b)\n",
    "print(a==b)\n",
    "print(a!=b)"
   ]
  },
  {
   "cell_type": "markdown",
   "metadata": {},
   "source": [
    "4. Completes the following steps of small task:\n",
    "    - Mention Marks of English , Islamiat and Maths out of 100 in 3 different variables\n",
    "    - Mention Variable of Total Marks and assign 300 to it\n",
    "    - Calculate Percentage"
   ]
  },
  {
   "cell_type": "code",
   "execution_count": 8,
   "metadata": {},
   "outputs": [
    {
     "name": "stdout",
     "output_type": "stream",
     "text": [
      "Percentage is 60.0\n"
     ]
    }
   ],
   "source": [
    "# Write your code here\n",
    "english = 60\n",
    "Islamiat = 70\n",
    "Maths = 50\n",
    "total = english + Islamiat + Maths\n",
    "per = (total/300)*100\n",
    "print(\"Percentage is {0}\".format(per))"
   ]
  },
  {
   "cell_type": "markdown",
   "metadata": {},
   "source": [
    "# Part -2 Python Basics (Conditional Statements)"
   ]
  },
  {
   "cell_type": "markdown",
   "metadata": {},
   "source": [
    "1) A company decided to give bonus of 5% to employee if his/her year of service is more than 5 years.\n",
    "Ask user for their salary and year of service and print the net bonus amount."
   ]
  },
  {
   "cell_type": "code",
   "execution_count": 11,
   "metadata": {},
   "outputs": [
    {
     "name": "stdout",
     "output_type": "stream",
     "text": [
      "Due to 11 years of service your salary is increased by 5% your salary is now 52500.0 \n"
     ]
    }
   ],
   "source": [
    "#Type your code here\n",
    "salary = int(input(\"Enter your Salary = \"))\n",
    "service = int(input(\"Enter the years of service = \"))\n",
    "if service > 5:\n",
    "    bonus = salary * 0.05\n",
    "    salary = salary + bonus\n",
    "    print(\"Due to {s} years of service your salary is increased by 5% your salary is now {sa} \".format(s = service,sa = salary))\n",
    "else:\n",
    "    print(\"Complete your 5 years service\")"
   ]
  },
  {
   "cell_type": "markdown",
   "metadata": {},
   "source": [
    "\n",
    "2) Write a program to check whether a person is eligible for voting or not. (accept age from user) if age is greater than 17 eligible otherwise not eligible"
   ]
  },
  {
   "cell_type": "code",
   "execution_count": 12,
   "metadata": {},
   "outputs": [
    {
     "name": "stdout",
     "output_type": "stream",
     "text": [
      "You are eligible to vote\n"
     ]
    }
   ],
   "source": [
    "#Type your code here\n",
    "age = int(input(\"Enter your age = \"))\n",
    "if age > 17 :\n",
    "    print(\"You are eligible to vote\")\n",
    "else:\n",
    "    print(\"You are not eligible to vote\")"
   ]
  },
  {
   "cell_type": "markdown",
   "metadata": {},
   "source": [
    "\n",
    "3) Write a program to check whether a number entered by user is even or odd."
   ]
  },
  {
   "cell_type": "code",
   "execution_count": 13,
   "metadata": {},
   "outputs": [
    {
     "name": "stdout",
     "output_type": "stream",
     "text": [
      "Number is even\n"
     ]
    }
   ],
   "source": [
    "#Type your code here\n",
    "num = int(input(\"Enter the number = \"))\n",
    "if num%2==0:\n",
    "    print(\"Number is even\")\n",
    "else:\n",
    "    print(\"Number is odd\")"
   ]
  },
  {
   "cell_type": "markdown",
   "metadata": {},
   "source": [
    "4) Write a program to check whether a number is divisible by 7 or not.\n",
    "Show Answer"
   ]
  },
  {
   "cell_type": "code",
   "execution_count": 14,
   "metadata": {},
   "outputs": [
    {
     "name": "stdout",
     "output_type": "stream",
     "text": [
      "It is Divisible by 7\n"
     ]
    }
   ],
   "source": [
    "#Type your code here\n",
    "num = int(input(\"Enter the number = \"))\n",
    "if num%7==0:\n",
    "    print(\"It is Divisible by 7\")\n",
    "else:\n",
    "    print(\"It is not divisible by 7\")"
   ]
  },
  {
   "cell_type": "markdown",
   "metadata": {},
   "source": [
    "5) Write a program to display \n",
    "\"Hello\" if a number entered by user is a multiple of five , otherwise print \"Bye\"."
   ]
  },
  {
   "cell_type": "code",
   "execution_count": 15,
   "metadata": {},
   "outputs": [
    {
     "name": "stdout",
     "output_type": "stream",
     "text": [
      "Hello\n"
     ]
    }
   ],
   "source": [
    "#Type your code here\n",
    "num = int(input(\"Enter the number = \"))\n",
    "if num%5==0:\n",
    "    print(\"Hello\")\n",
    "else:\n",
    "    print(\"Bye\")"
   ]
  },
  {
   "cell_type": "markdown",
   "metadata": {},
   "source": [
    "7) Write a program to display the last digit of a number.\n"
   ]
  },
  {
   "cell_type": "code",
   "execution_count": 18,
   "metadata": {},
   "outputs": [
    {
     "name": "stdout",
     "output_type": "stream",
     "text": [
      "2\n"
     ]
    }
   ],
   "source": [
    "#Type your code here\n",
    "a = input(\"Enter number = \")\n",
    "b = a[-1]\n",
    "print(int(b))"
   ]
  },
  {
   "cell_type": "markdown",
   "metadata": {},
   "source": [
    "9) Take values of length and breadth of a rectangle from user and print if it is square or rectangle."
   ]
  },
  {
   "cell_type": "code",
   "execution_count": 19,
   "metadata": {},
   "outputs": [
    {
     "name": "stdout",
     "output_type": "stream",
     "text": [
      "It is a rectangle\n"
     ]
    }
   ],
   "source": [
    "#Type your code here \n",
    "length = int(input(\"Enter length = \"))\n",
    "breadth = int(input(\"Enter Breadth = \"))\n",
    "if length == breadth:\n",
    "    print(\"It is a square\")\n",
    "else:\n",
    "    print(\"It is a rectangle\")"
   ]
  },
  {
   "cell_type": "markdown",
   "metadata": {},
   "source": [
    "10) Take two int values from user and print greatest among them."
   ]
  },
  {
   "cell_type": "code",
   "execution_count": 20,
   "metadata": {},
   "outputs": [
    {
     "name": "stdout",
     "output_type": "stream",
     "text": [
      "Value2 is greater than Value 1\n"
     ]
    }
   ],
   "source": [
    "# Type your code here\n",
    "\n",
    "x = int(input(\"Enter number = \"))\n",
    "y = int(input(\"Enter number = \"))\n",
    "if x>y:\n",
    "    print(\"Value 1 is greater than value 2\") \n",
    "if y>x:\n",
    "    print(\"Value2 is greater than Value 1\")  "
   ]
  },
  {
   "cell_type": "markdown",
   "metadata": {},
   "source": [
    "11) A shop will give discount of 10% if the cost of purchased quantity is more than 1000.\n",
    "Ask user for quantity\n",
    "Suppose, one unit will cost 100.\n",
    "Judge and print total cost for user."
   ]
  },
  {
   "cell_type": "code",
   "execution_count": 1,
   "metadata": {},
   "outputs": [
    {
     "name": "stdout",
     "output_type": "stream",
     "text": [
      "The price is 1080.0\n"
     ]
    }
   ],
   "source": [
    "#Type your code here\n",
    "cost = int(input(\"Enter the cost = \"))\n",
    "if cost > 1000:\n",
    "    discount = cost * 0.10 \n",
    "    price = cost - discount\n",
    "    print(f\"The price is {price}\")\n",
    "else:\n",
    "    print(f\"The price is {cost}\")"
   ]
  },
  {
   "cell_type": "markdown",
   "metadata": {},
   "source": [
    "12) A school has following rules for grading system:\n",
    "\n",
    "a. Below 25 - F\n",
    "\n",
    "b. 25 to 45 - E\n",
    "\n",
    "c. 45 to 50 - D\n",
    "\n",
    "d. 50 to 60 - C\n",
    "\n",
    "e. 60 to 80 - B\n",
    "\n",
    "f. Above 80 - A\n",
    "\n",
    "Ask user to enter marks and print the corresponding grade."
   ]
  },
  {
   "cell_type": "code",
   "execution_count": 2,
   "metadata": {},
   "outputs": [
    {
     "name": "stdout",
     "output_type": "stream",
     "text": [
      "B\n"
     ]
    }
   ],
   "source": [
    "#Type your code here\n",
    "grade = int(input(\"Enter the percentage = \"))\n",
    "if grade >= 80:\n",
    "    print(\"A\")\n",
    "elif grade >= 60 and grade <80:\n",
    "    print(\"B\")\n",
    "elif grade >=50 and grade < 60:\n",
    "    print(\"C\")\n",
    "elif grade >=45 and grade <50 :\n",
    "    print(\"D\")\n",
    "elif grade>=25 and grade <45:\n",
    "    print(\"E\")\n",
    "elif grade < 25:\n",
    "    print(\"F\")"
   ]
  },
  {
   "cell_type": "markdown",
   "metadata": {},
   "source": [
    "14)A student will not be allowed to sit in exam if his/her attendence is less than 75%.\n",
    "\n",
    "Take following input from user\n",
    "\n",
    "- Number of classes held\n",
    "\n",
    "- Number of classes attended.\n",
    "\n",
    "And print\n",
    "\n",
    "- percentage of class attended\n",
    "\n",
    "- Is student is allowed to sit in exam or not.\n"
   ]
  },
  {
   "cell_type": "code",
   "execution_count": 4,
   "metadata": {},
   "outputs": [
    {
     "name": "stdout",
     "output_type": "stream",
     "text": [
      "The student is not allowed to sit in the exam\n"
     ]
    }
   ],
   "source": [
    "#Type your code here\n",
    "classess_held = 100\n",
    "attended = int(input(\"Enter the classes attended = \"))\n",
    "percentage = (attended / classess_held) * 100\n",
    "if percentage < 75 :\n",
    "    print(\"The student is not allowed to sit in the exam\")\n",
    "else:\n",
    "    print(\"The student is allowed to sit in exam \")"
   ]
  },
  {
   "cell_type": "markdown",
   "metadata": {},
   "source": [
    "15) Modify the above question to allow student to sit if he/she has medical cause. Ask user if he/she has medical cause or not ( 'Y' or 'N' ) and print accordingly."
   ]
  },
  {
   "cell_type": "code",
   "execution_count": 6,
   "metadata": {},
   "outputs": [
    {
     "name": "stdout",
     "output_type": "stream",
     "text": [
      "You are allowed to sit for the exam\n"
     ]
    }
   ],
   "source": [
    "#Type your code here\n",
    "classess_held = 100\n",
    "attended = int(input(\"Enter the classes attended = \"))\n",
    "percentage = (attended / classess_held) * 100\n",
    "if percentage < 75 :\n",
    "    medical_cause = input(\"Was there a medical cause (Y/N) = \").lower()\n",
    "    if medical_cause == 'y':\n",
    "        print(\"You are allowed to sit for the exam\")\n",
    "    else:\n",
    "        print(\"The student is not allowed to sit in the exam\")\n",
    "else:\n",
    "    print(\"The student is allowed to sit in exam \")"
   ]
  },
  {
   "cell_type": "markdown",
   "metadata": {},
   "source": [
    "16) Write a program to check if a year is leap year or not.\n",
    "\n",
    "If a year is divisible by 4 then it is leap year but if the year is century year like 2000, 1900, 2100 then it must be divisible by 400."
   ]
  },
  {
   "cell_type": "code",
   "execution_count": 7,
   "metadata": {},
   "outputs": [
    {
     "name": "stdout",
     "output_type": "stream",
     "text": [
      "It's a leap year\n"
     ]
    }
   ],
   "source": [
    "#Type your code here\n",
    "year = int(input(\"Enter the number = \"))\n",
    "if year%4 == 0 :\n",
    "    print(\"It's a leap year\")\n",
    "elif year%400 == 0 :\n",
    "    print(\"It is a leap year\")\n",
    "else:\n",
    "    print(\"Not a leap year\")"
   ]
  },
  {
   "cell_type": "markdown",
   "metadata": {},
   "source": [
    "17) Ask user to enter age, gender ( M or F ), marital status ( Y or N ) and then using following rules print their place of service.\n",
    "\n",
    "if employee is female, then she will work only in urban areas.\n",
    "\n",
    "if employee is a male and age is in between 20 to 40 then he may work in anywhere\n",
    "\n",
    "if employee is male and age is in between 40 t0 60 then he will work in urban areas only.\n",
    "\n",
    "And any other input of age should print \"ERROR\""
   ]
  },
  {
   "cell_type": "code",
   "execution_count": 13,
   "metadata": {},
   "outputs": [
    {
     "name": "stdout",
     "output_type": "stream",
     "text": [
      "Work only in urban areas\n"
     ]
    }
   ],
   "source": [
    "#Type your code here\n",
    "# Get user input\n",
    "age = int(input(\"Enter age: \"))\n",
    "gender = input(\"Enter gender (M or F): \").lower()\n",
    "marital_status = input(\"Marital status (Y or N): \").lower()\n",
    "\n",
    "# Determine work location based on gender and age\n",
    "if gender == \"f\":\n",
    "    print(\"Work only in urban areas\")\n",
    "elif gender == \"m\" and 20 <= age < 40:\n",
    "    print(\"He may work anywhere\")\n",
    "elif gender == \"m\" and 40 <= age < 60:\n",
    "    print(\"Work only in urban areas\")\n",
    "else:\n",
    "    print(\"Error\")\n"
   ]
  },
  {
   "cell_type": "markdown",
   "metadata": {},
   "source": [
    "6) Write a program to calculate the electricity bill (accept number of unit from user) according to the following criteria :\n",
    "     Unit                                                     Price  \n",
    "uptp 100 units                                             no charge\n",
    "Next 200 units                                              Rs 5 per unit\n",
    "After 200 units                                             Rs 10 per unit\n",
    "(For example if input unit is 350 than total bill amount is Rs.3500\n",
    "(For example if input unit is 97 than total bill amount is Rs.0\n",
    "(For example if input unit is 150 than total bill amount is Rs.750"
   ]
  },
  {
   "cell_type": "code",
   "execution_count": 17,
   "metadata": {},
   "outputs": [
    {
     "name": "stdout",
     "output_type": "stream",
     "text": [
      "The Bill is 100\n"
     ]
    }
   ],
   "source": [
    "# Get user input\n",
    "unit = int(input(\"Enter unit: \"))\n",
    "\n",
    "# Determine the bill based on the unit consumed\n",
    "if unit <= 100:\n",
    "    print(\"No charge\")\n",
    "elif unit > 100 and unit <= 200:\n",
    "    # Calculate charge for units above 100 and up to 200\n",
    "    chargeable_units = unit - 100\n",
    "    price = chargeable_units * 5\n",
    "    print(\"The Bill is {0}\".format(price))\n",
    "elif unit > 200:\n",
    "    # Calculate charge for units above 100 and up to 200\n",
    "    if unit <= 200:\n",
    "        chargeable_units = unit - 100\n",
    "        price = chargeable_units * 5\n",
    "    else:\n",
    "        # Calculate charge for units above 200\n",
    "        chargeable_units_200 = 100\n",
    "        chargeable_units_above_200 = unit - 200\n",
    "        price = (chargeable_units_200 * 5) + (chargeable_units_above_200 * 10)\n",
    "    print(\"The Bill is {0}\".format(price))\n"
   ]
  },
  {
   "cell_type": "markdown",
   "metadata": {},
   "source": [
    "13) Take input of age of 3 people by user and determine oldest and youngest among them."
   ]
  },
  {
   "cell_type": "code",
   "execution_count": 16,
   "metadata": {},
   "outputs": [
    {
     "name": "stdout",
     "output_type": "stream",
     "text": [
      "Person 3 is the oldest\n",
      "Person 1 is the youngest\n"
     ]
    }
   ],
   "source": [
    "#Type your code here\n",
    "person1 = int(input(\"Enter age is = \"))\n",
    "person2 = int(input(\"Enter age is = \"))\n",
    "person3 = int(input(\"Enter age is = \"))\n",
    "if person1 > person2 and person1 >person3:\n",
    "    print(\"Person 1 is the oldest\") \n",
    "elif person2 > person1 and person2 >person3:\n",
    "    print(\"Person 2 is the oldest\")\n",
    "elif person2 > person1 and person3 >person2:\n",
    "    print(\"Person 3 is the oldest\")\n",
    "if person1 < person2 and person1 <person3:\n",
    "    print(\"Person 1 is the youngest\")\n",
    "elif person2 < person1 and person2 <person3:\n",
    "    print(\"Person 2 is the youngest\")\n",
    "elif person3 < person1 and person3 <person2:\n",
    "    print(\"Person 3 is the youngest\")"
   ]
  }
 ],
 "metadata": {
  "kernelspec": {
   "display_name": "Python 3 (ipykernel)",
   "language": "python",
   "name": "python3"
  },
  "language_info": {
   "codemirror_mode": {
    "name": "ipython",
    "version": 3
   },
   "file_extension": ".py",
   "mimetype": "text/x-python",
   "name": "python",
   "nbconvert_exporter": "python",
   "pygments_lexer": "ipython3",
   "version": "3.11.5"
  }
 },
 "nbformat": 4,
 "nbformat_minor": 2
}
