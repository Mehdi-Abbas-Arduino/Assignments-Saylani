{
  "nbformat": 4,
  "nbformat_minor": 0,
  "metadata": {
    "colab": {
      "provenance": [],
      "authorship_tag": "ABX9TyP0mhrpDskPYU9tVWuSiG2x",
      "include_colab_link": true
    },
    "kernelspec": {
      "name": "python3",
      "display_name": "Python 3"
    },
    "language_info": {
      "name": "python"
    }
  },
  "cells": [
    {
      "cell_type": "markdown",
      "metadata": {
        "id": "view-in-github",
        "colab_type": "text"
      },
      "source": [
        "<a href=\"https://colab.research.google.com/github/Mehdi-Abbas-Arduino/Assignments-Saylani/blob/master/Voting_grade_system.ipynb\" target=\"_parent\"><img src=\"https://colab.research.google.com/assets/colab-badge.svg\" alt=\"Open In Colab\"/></a>"
      ]
    },
    {
      "cell_type": "code",
      "execution_count": 32,
      "metadata": {
        "id": "3a-rzfuHnqx7"
      },
      "outputs": [],
      "source": [
        "# Initialization of list\n",
        "candidate_A_Employee = []\n",
        "candidate_B_Employee = []\n",
        "candidate_C_Employee = []\n",
        "\n",
        "candidate_A_Innovation = []\n",
        "candidate_B_Innovation = []\n",
        "candidate_C_Innovation = []"
      ]
    },
    {
      "cell_type": "code",
      "source": [
        "def Employee_of_the_Year_vote():\n",
        "  n = int(input(\"Number of people to vote = \"))\n",
        "  for i in range(1,n+1):\n",
        "    user_input = input(\"Choose a candidate for the award of Employee of the year = Candidate \")\n",
        "    if user_input == \"A\":\n",
        "      candidate_A_Employee .append(user_input)\n",
        "      print(f\"Voter {i} your record has been recorded\")\n",
        "    elif user_input == \"B\":\n",
        "      candidate_B_Employee .append(user_input)\n",
        "      print(f\"Voter {i} your record has been recorded\")\n",
        "    elif user_input == \"C\":\n",
        "      candidate_C_Employee .append(user_input)\n",
        "      print(f\"Voter {i} your record has been recorded\")\n",
        "    elif user_input != \"A\" or \"B\" or \"C\":\n",
        "      print(\"Invalid input\")"
      ],
      "metadata": {
        "id": "mMH0HkPh3wOh"
      },
      "execution_count": 33,
      "outputs": []
    },
    {
      "cell_type": "code",
      "source": [
        "def Innovation_Award():\n",
        "  n = int(input(\"Number of people to vote = \"))\n",
        "  for i in range(1,n+1):\n",
        "    user_input = input(\"Choose a candidate for the award of Employee of the year = Candidate \")\n",
        "    if user_input == \"A\":\n",
        "      candidate_A_Innovation.append(user_input)\n",
        "      print(f\"Voter {i} your record has been recorded\")\n",
        "    elif user_input == \"B\":\n",
        "      candidate_B_Innovation.append(user_input)\n",
        "      print(f\"Voter {i} your record has been recorded\")\n",
        "    elif user_input == \"C\":\n",
        "      candidate_C_Innovation.append(user_input)\n",
        "      print(f\"Voter {i} your record has been recorded\")\n",
        "    elif user_input != \"A\" or \"B\" or \"C\":\n",
        "      print(\"Invalid input\")"
      ],
      "metadata": {
        "id": "zGlI50B84oNV"
      },
      "execution_count": 42,
      "outputs": []
    },
    {
      "cell_type": "code",
      "source": [
        "Employee_of_the_Year_vote()"
      ],
      "metadata": {
        "colab": {
          "base_uri": "https://localhost:8080/"
        },
        "id": "zjpTrInW5Gr1",
        "outputId": "79dadb92-51ad-4c9c-98ef-d804eb128024"
      },
      "execution_count": 35,
      "outputs": [
        {
          "output_type": "stream",
          "name": "stdout",
          "text": [
            "Number of people to vote = 3\n",
            "Choose a candidate for the award of Employee of the year = Candidate A\n",
            "Voter 1 your record has been recorded\n",
            "Choose a candidate for the award of Employee of the year = Candidate B\n",
            "Voter 2 your record has been recorded\n",
            "Choose a candidate for the award of Employee of the year = Candidate B\n",
            "Voter 3 your record has been recorded\n"
          ]
        }
      ]
    },
    {
      "cell_type": "code",
      "source": [
        "Innovation_Award()"
      ],
      "metadata": {
        "colab": {
          "base_uri": "https://localhost:8080/"
        },
        "id": "u0ZCwiY85SGc",
        "outputId": "6ee90cf0-b320-413b-f02c-0fdfa7e8f8ff"
      },
      "execution_count": 43,
      "outputs": [
        {
          "output_type": "stream",
          "name": "stdout",
          "text": [
            "Number of people to vote = 3\n",
            "Choose a candidate for the award of Employee of the year = Candidate C\n",
            "Voter 1 your record has been recorded\n",
            "Choose a candidate for the award of Employee of the year = Candidate C\n",
            "Voter 2 your record has been recorded\n",
            "Choose a candidate for the award of Employee of the year = Candidate C\n",
            "Voter 3 your record has been recorded\n"
          ]
        }
      ]
    },
    {
      "cell_type": "code",
      "source": [
        "def Employee_of_the_Award_Result_display(candidateA,candidateB,candidateC):\n",
        "  x = candidateA.count('A')\n",
        "  y = candidateB.count('B')\n",
        "  z = candidateC.count('C')\n",
        "  if x > y > z :\n",
        "    print(\"Congrats Winner is candidate A\")\n",
        "  elif y > x > z :\n",
        "    print(\"Congrats Winner is candidate B\")\n",
        "  elif z > x > y :\n",
        "    print(\"Congrats Winner is candidate C\")\n",
        "  elif x == y == z :\n",
        "    print(\"Draw\")"
      ],
      "metadata": {
        "id": "zB2CtnDy5T6c"
      },
      "execution_count": 44,
      "outputs": []
    },
    {
      "cell_type": "code",
      "source": [
        "def Innovation_Result_display(candidateA,candidateB,candidateC):\n",
        "  x = candidateA.count('A')\n",
        "  y = candidateB.count('B')\n",
        "  z = candidateC.count('C')\n",
        "  if x > y > z :\n",
        "    print(\"Congrats Winner is candidate A\")\n",
        "  elif y > x > z :\n",
        "    print(\"Congrats Winner is candidate B\")\n",
        "  elif z > x > y :\n",
        "    print(\"Congrats Winner is candidate C\")\n",
        "  elif x == y == z :\n",
        "    print(\"Draw\")"
      ],
      "metadata": {
        "id": "ML3epsKJ6btB"
      },
      "execution_count": 45,
      "outputs": []
    },
    {
      "cell_type": "code",
      "source": [
        "Employee_of_the_Award_Result_display(candidate_A_Employee,candidate_B_Employee,candidate_C_Employee)"
      ],
      "metadata": {
        "colab": {
          "base_uri": "https://localhost:8080/"
        },
        "id": "0ZF4WkN_6gXC",
        "outputId": "b768f9a6-57f4-4d96-d1c3-4bf2cfe2dbc3"
      },
      "execution_count": 46,
      "outputs": [
        {
          "output_type": "stream",
          "name": "stdout",
          "text": [
            "Congrats Winner is candidate B\n"
          ]
        }
      ]
    },
    {
      "cell_type": "code",
      "source": [
        "Innovation_Result_display(candidate_A_Innovation,candidate_B_Innovation,candidate_C_Innovation)"
      ],
      "metadata": {
        "colab": {
          "base_uri": "https://localhost:8080/"
        },
        "id": "VSu6FqW36mie",
        "outputId": "8aa67ef5-da69-4170-a237-dcf0f4bf82ab"
      },
      "execution_count": 47,
      "outputs": [
        {
          "output_type": "stream",
          "name": "stdout",
          "text": [
            "Congrats Winner is candidate C\n"
          ]
        }
      ]
    }
  ]
}