{
  "nbformat": 4,
  "nbformat_minor": 0,
  "metadata": {
    "colab": {
      "provenance": [],
      "authorship_tag": "ABX9TyMEoo9ptkJpUr4aBEvTGNCG",
      "include_colab_link": true
    },
    "kernelspec": {
      "name": "python3",
      "display_name": "Python 3"
    },
    "language_info": {
      "name": "python"
    }
  },
  "cells": [
    {
      "cell_type": "markdown",
      "metadata": {
        "id": "view-in-github",
        "colab_type": "text"
      },
      "source": [
        "<a href=\"https://colab.research.google.com/github/Mehdi-Abbas-Arduino/Assignments-Saylani/blob/master/Variation_of__Voting_grade_system.ipynb\" target=\"_parent\"><img src=\"https://colab.research.google.com/assets/colab-badge.svg\" alt=\"Open In Colab\"/></a>"
      ]
    },
    {
      "cell_type": "code",
      "execution_count": 21,
      "metadata": {
        "id": "3a-rzfuHnqx7"
      },
      "outputs": [],
      "source": [
        "# Initialization of list\n",
        "candidate_A = []\n",
        "candidate_B = []\n",
        "candidate_C = []"
      ]
    },
    {
      "cell_type": "code",
      "source": [
        "def Employee_of_the_Year_vote():\n",
        "  n = int(input(\"Number of people to vote = \"))\n",
        "  for i in range(1,n+1):\n",
        "    user_input = input(\"Choose a candidate for the award of Employee of the year = Candidate \").upper()\n",
        "    if user_input == \"A\":\n",
        "      candidate_A .append(user_input)\n",
        "      print(f\"Voter {i} your record has been recorded\")\n",
        "    elif user_input == \"B\":\n",
        "      candidate_B .append(user_input)\n",
        "      print(f\"Voter {i} your record has been recorded\")\n",
        "    elif user_input == \"C\":\n",
        "      candidate_C.append(user_input)\n",
        "      print(f\"Voter {i} your record has been recorded\")\n",
        "    elif user_input != \"A\" or \"B\" or \"C\":\n",
        "      print(\"Invalid input\")"
      ],
      "metadata": {
        "id": "mMH0HkPh3wOh"
      },
      "execution_count": 22,
      "outputs": []
    },
    {
      "cell_type": "code",
      "source": [
        "Employee_of_the_Year_vote()"
      ],
      "metadata": {
        "colab": {
          "base_uri": "https://localhost:8080/"
        },
        "id": "zjpTrInW5Gr1",
        "outputId": "c6897800-e745-437f-d216-760b197f5d32"
      },
      "execution_count": 23,
      "outputs": [
        {
          "output_type": "stream",
          "name": "stdout",
          "text": [
            "Number of people to vote = 3\n",
            "Choose a candidate for the award of Employee of the year = Candidate A\n",
            "Voter 1 your record has been recorded\n",
            "Choose a candidate for the award of Employee of the year = Candidate B\n",
            "Voter 2 your record has been recorded\n",
            "Choose a candidate for the award of Employee of the year = Candidate C\n",
            "Voter 3 your record has been recorded\n"
          ]
        }
      ]
    },
    {
      "cell_type": "code",
      "source": [
        "def Employee_of_the_Award_Result_display(candidateA,candidateB,candidateC):\n",
        "  x = candidateA.count('A')\n",
        "  y = candidateB.count('B')\n",
        "  z = candidateC.count('C')\n",
        "  if x > y > z :\n",
        "    print(\"Congrats Winner is candidate A\")\n",
        "  elif y > x > z :\n",
        "    print(\"Congrats Winner is candidate B\")\n",
        "  elif z > x > y :\n",
        "    print(\"Congrats Winner is candidate C\")\n",
        "  elif x == y == z :\n",
        "    print(\"Draw\")\n",
        "    import random\n",
        "    x = random.choice(['A','B','C'])\n",
        "    print(f\"The winner is {x}\")"
      ],
      "metadata": {
        "id": "zB2CtnDy5T6c"
      },
      "execution_count": 24,
      "outputs": []
    },
    {
      "cell_type": "code",
      "source": [
        "Employee_of_the_Award_Result_display(candidate_A,candidate_B,candidate_C)"
      ],
      "metadata": {
        "colab": {
          "base_uri": "https://localhost:8080/"
        },
        "id": "0ZF4WkN_6gXC",
        "outputId": "bf1b3064-d168-4b63-e11d-a263231fe5d3"
      },
      "execution_count": 25,
      "outputs": [
        {
          "output_type": "stream",
          "name": "stdout",
          "text": [
            "Draw\n",
            "The winner is C\n"
          ]
        }
      ]
    },
    {
      "cell_type": "code",
      "source": [
        "# Initialization of list\n",
        "candidate_A = []\n",
        "candidate_B = []\n",
        "candidate_C = []\n"
      ],
      "metadata": {
        "id": "yyhffBMeAb2b"
      },
      "execution_count": 26,
      "outputs": []
    },
    {
      "cell_type": "code",
      "source": [
        "def Innovation_Award():\n",
        "  n = int(input(\"Number of people to vote = \"))\n",
        "  for i in range(1,n+1):\n",
        "    user_input = input(\"Choose a candidate for the award of Employee of the year = Candidate \").upper()\n",
        "    if user_input == \"A\":\n",
        "      candidate_A.append(user_input)\n",
        "      print(f\"Voter {i} your record has been recorded\")\n",
        "    elif user_input == \"B\":\n",
        "      candidate_B.append(user_input)\n",
        "      print(f\"Voter {i} your record has been recorded\")\n",
        "    elif user_input == \"C\":\n",
        "      candidate_C.append(user_input)\n",
        "      print(f\"Voter {i} your record has been recorded\")\n",
        "    elif user_input != \"A\" or \"B\" or \"C\":\n",
        "      print(\"Invalid input\")"
      ],
      "metadata": {
        "id": "zGlI50B84oNV"
      },
      "execution_count": 31,
      "outputs": []
    },
    {
      "cell_type": "code",
      "source": [
        "Innovation_Award()"
      ],
      "metadata": {
        "colab": {
          "base_uri": "https://localhost:8080/"
        },
        "id": "u0ZCwiY85SGc",
        "outputId": "6fe2690c-1f0d-46d4-b540-87a72d6baf1f"
      },
      "execution_count": 28,
      "outputs": [
        {
          "output_type": "stream",
          "name": "stdout",
          "text": [
            "Number of people to vote = 3\n",
            "Choose a candidate for the award of Employee of the year = Candidate C\n",
            "Voter 1 your record has been recorded\n",
            "Choose a candidate for the award of Employee of the year = Candidate B\n",
            "Voter 2 your record has been recorded\n",
            "Choose a candidate for the award of Employee of the year = Candidate A\n",
            "Voter 3 your record has been recorded\n"
          ]
        }
      ]
    },
    {
      "cell_type": "code",
      "source": [
        "def Innovation_Result_display(candidateA,candidateB,candidateC):\n",
        "  x = candidateA.count('A')\n",
        "  y = candidateB.count('B')\n",
        "  z = candidateC.count('C')\n",
        "  if x > y > z :\n",
        "    print(\"Congrats Winner is candidate A\")\n",
        "  elif y > x > z :\n",
        "    print(\"Congrats Winner is candidate B\")\n",
        "  elif z > x > y :\n",
        "    print(\"Congrats Winner is candidate C\")\n",
        "  elif x == y == z :\n",
        "    print(\"Draw\")\n",
        "    import random\n",
        "    x = random.choice(['A','B','C'])\n",
        "    print(f\"The winner is {x}\")"
      ],
      "metadata": {
        "id": "ML3epsKJ6btB"
      },
      "execution_count": 29,
      "outputs": []
    },
    {
      "cell_type": "code",
      "source": [
        "Innovation_Result_display(candidate_A,candidate_B,candidate_C)"
      ],
      "metadata": {
        "colab": {
          "base_uri": "https://localhost:8080/"
        },
        "id": "VSu6FqW36mie",
        "outputId": "f99d91fa-c71f-4f5c-9e9b-5ae12ebb34c8"
      },
      "execution_count": 30,
      "outputs": [
        {
          "output_type": "stream",
          "name": "stdout",
          "text": [
            "Draw\n",
            "The winner is B\n"
          ]
        }
      ]
    },
    {
      "cell_type": "code",
      "source": [],
      "metadata": {
        "id": "QBzmr88zB5wK"
      },
      "execution_count": 17,
      "outputs": []
    }
  ]
}